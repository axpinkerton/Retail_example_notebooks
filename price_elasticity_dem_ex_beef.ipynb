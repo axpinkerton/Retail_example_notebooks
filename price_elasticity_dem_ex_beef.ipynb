{
 "cells": [
  {
   "cell_type": "code",
   "execution_count": 1,
   "id": "5e95ab94-0a9a-44e8-a236-cb61d0f084ae",
   "metadata": {},
   "outputs": [
    {
     "data": {
      "text/html": [
       "<style>:root { --jp-notebook-max-width: 98% !important; }</style>"
      ],
      "text/plain": [
       "<IPython.core.display.HTML object>"
      ]
     },
     "metadata": {},
     "output_type": "display_data"
    },
    {
     "data": {
      "text/html": [
       "<style>.output_result { max-width:100% !important; }</style>"
      ],
      "text/plain": [
       "<IPython.core.display.HTML object>"
      ]
     },
     "metadata": {},
     "output_type": "display_data"
    }
   ],
   "source": [
    "import pandas as pd\n",
    "import numpy as np\n",
    "import datetime as dt\n",
    "import itertools\n",
    "import matplotlib.pyplot as plt\n",
    "import seaborn as sns\n",
    "import statsmodels.api as sm\n",
    "import sklearn\n",
    "\n",
    "from sklearn.model_selection import train_test_split\n",
    "from sklearn.linear_model import LinearRegression\n",
    "from sklearn.metrics import mean_squared_error, r2_score\n",
    "\n",
    "from pulp import *\n",
    "from scipy.optimize import minimize\n",
    "\n",
    "from dateutil.relativedelta import relativedelta\n",
    "\n",
    "from IPython.display import display, HTML\n",
    "display(HTML(\"<style>:root { --jp-notebook-max-width: 98% !important; }</style>\"))\n",
    "display(HTML(\"<style>.output_result { max-width:100% !important; }</style>\"))\n",
    "\n",
    "pd.set_option('display.max_columns',500)"
   ]
  },
  {
   "cell_type": "code",
   "execution_count": 2,
   "id": "299b6dc8-d49b-4301-8908-bd886e0c19ab",
   "metadata": {},
   "outputs": [],
   "source": [
    "# In this notebook, I am going to take commodity pricing & quantity sales from available beef prices & \n",
    "# construct a price elasticity of demand curve in order to predict the effect of a specfic change in price \n",
    "# to the change in quantity sold"
   ]
  },
  {
   "cell_type": "code",
   "execution_count": 3,
   "id": "31c23e39-f409-49c0-b67b-f7714df87d90",
   "metadata": {},
   "outputs": [
    {
     "data": {
      "text/html": [
       "<div>\n",
       "<style scoped>\n",
       "    .dataframe tbody tr th:only-of-type {\n",
       "        vertical-align: middle;\n",
       "    }\n",
       "\n",
       "    .dataframe tbody tr th {\n",
       "        vertical-align: top;\n",
       "    }\n",
       "\n",
       "    .dataframe thead th {\n",
       "        text-align: right;\n",
       "    }\n",
       "</style>\n",
       "<table border=\"1\" class=\"dataframe\">\n",
       "  <thead>\n",
       "    <tr style=\"text-align: right;\">\n",
       "      <th></th>\n",
       "      <th>Year</th>\n",
       "      <th>Quarter</th>\n",
       "      <th>Quantity</th>\n",
       "      <th>Price</th>\n",
       "    </tr>\n",
       "  </thead>\n",
       "  <tbody>\n",
       "    <tr>\n",
       "      <th>0</th>\n",
       "      <td>1977</td>\n",
       "      <td>1</td>\n",
       "      <td>22.9976</td>\n",
       "      <td>142.1667</td>\n",
       "    </tr>\n",
       "    <tr>\n",
       "      <th>1</th>\n",
       "      <td>1977</td>\n",
       "      <td>2</td>\n",
       "      <td>22.6131</td>\n",
       "      <td>143.9333</td>\n",
       "    </tr>\n",
       "    <tr>\n",
       "      <th>2</th>\n",
       "      <td>1977</td>\n",
       "      <td>3</td>\n",
       "      <td>23.4054</td>\n",
       "      <td>146.5000</td>\n",
       "    </tr>\n",
       "    <tr>\n",
       "      <th>3</th>\n",
       "      <td>1977</td>\n",
       "      <td>4</td>\n",
       "      <td>22.7401</td>\n",
       "      <td>150.8000</td>\n",
       "    </tr>\n",
       "    <tr>\n",
       "      <th>4</th>\n",
       "      <td>1978</td>\n",
       "      <td>1</td>\n",
       "      <td>22.0441</td>\n",
       "      <td>160.0000</td>\n",
       "    </tr>\n",
       "    <tr>\n",
       "      <th>...</th>\n",
       "      <td>...</td>\n",
       "      <td>...</td>\n",
       "      <td>...</td>\n",
       "      <td>...</td>\n",
       "    </tr>\n",
       "    <tr>\n",
       "      <th>86</th>\n",
       "      <td>1998</td>\n",
       "      <td>3</td>\n",
       "      <td>17.5085</td>\n",
       "      <td>277.3667</td>\n",
       "    </tr>\n",
       "    <tr>\n",
       "      <th>87</th>\n",
       "      <td>1998</td>\n",
       "      <td>4</td>\n",
       "      <td>16.6475</td>\n",
       "      <td>279.5333</td>\n",
       "    </tr>\n",
       "    <tr>\n",
       "      <th>88</th>\n",
       "      <td>1999</td>\n",
       "      <td>1</td>\n",
       "      <td>16.6785</td>\n",
       "      <td>278.0000</td>\n",
       "    </tr>\n",
       "    <tr>\n",
       "      <th>89</th>\n",
       "      <td>1999</td>\n",
       "      <td>2</td>\n",
       "      <td>17.7635</td>\n",
       "      <td>284.7667</td>\n",
       "    </tr>\n",
       "    <tr>\n",
       "      <th>90</th>\n",
       "      <td>1999</td>\n",
       "      <td>3</td>\n",
       "      <td>17.6689</td>\n",
       "      <td>289.2333</td>\n",
       "    </tr>\n",
       "  </tbody>\n",
       "</table>\n",
       "<p>91 rows × 4 columns</p>\n",
       "</div>"
      ],
      "text/plain": [
       "    Year  Quarter  Quantity     Price\n",
       "0   1977        1   22.9976  142.1667\n",
       "1   1977        2   22.6131  143.9333\n",
       "2   1977        3   23.4054  146.5000\n",
       "3   1977        4   22.7401  150.8000\n",
       "4   1978        1   22.0441  160.0000\n",
       "..   ...      ...       ...       ...\n",
       "86  1998        3   17.5085  277.3667\n",
       "87  1998        4   16.6475  279.5333\n",
       "88  1999        1   16.6785  278.0000\n",
       "89  1999        2   17.7635  284.7667\n",
       "90  1999        3   17.6689  289.2333\n",
       "\n",
       "[91 rows x 4 columns]"
      ]
     },
     "execution_count": 3,
     "metadata": {},
     "output_type": "execute_result"
    }
   ],
   "source": [
    "# Data can be viewed in the below link\n",
    "beef_price = 'https://raw.githubusercontent.com/susanli2016/Machine-Learning-with-Python/master/beef.csv'\n",
    "beef_df = pd.read_csv(beef_price, index_col=0)\n",
    "beef_df.reset_index(inplace=True)\n",
    "beef_df"
   ]
  },
  {
   "cell_type": "code",
   "execution_count": 4,
   "id": "36e24a48-2930-4229-bab6-e65d614a5feb",
   "metadata": {},
   "outputs": [
    {
     "name": "stderr",
     "output_type": "stream",
     "text": [
      "/var/folders/0g/4l0cmb9j43jgr0cxr8nx6sdm0000gn/T/ipykernel_76838/1417565771.py:8: UserWarning: Could not infer format, so each element will be parsed individually, falling back to `dateutil`. To ensure parsing is consistent and as-expected, please specify a format.\n",
      "  beef_df['yq'] = pd.to_datetime(beef_df['yq'])\n"
     ]
    },
    {
     "data": {
      "text/html": [
       "<div>\n",
       "<style scoped>\n",
       "    .dataframe tbody tr th:only-of-type {\n",
       "        vertical-align: middle;\n",
       "    }\n",
       "\n",
       "    .dataframe tbody tr th {\n",
       "        vertical-align: top;\n",
       "    }\n",
       "\n",
       "    .dataframe thead th {\n",
       "        text-align: right;\n",
       "    }\n",
       "</style>\n",
       "<table border=\"1\" class=\"dataframe\">\n",
       "  <thead>\n",
       "    <tr style=\"text-align: right;\">\n",
       "      <th></th>\n",
       "      <th>yq</th>\n",
       "      <th>quantity</th>\n",
       "      <th>price</th>\n",
       "    </tr>\n",
       "  </thead>\n",
       "  <tbody>\n",
       "    <tr>\n",
       "      <th>0</th>\n",
       "      <td>1977-01-01</td>\n",
       "      <td>22.9976</td>\n",
       "      <td>142.1667</td>\n",
       "    </tr>\n",
       "    <tr>\n",
       "      <th>1</th>\n",
       "      <td>1977-04-01</td>\n",
       "      <td>22.6131</td>\n",
       "      <td>143.9333</td>\n",
       "    </tr>\n",
       "    <tr>\n",
       "      <th>2</th>\n",
       "      <td>1977-07-01</td>\n",
       "      <td>23.4054</td>\n",
       "      <td>146.5000</td>\n",
       "    </tr>\n",
       "    <tr>\n",
       "      <th>3</th>\n",
       "      <td>1977-10-01</td>\n",
       "      <td>22.7401</td>\n",
       "      <td>150.8000</td>\n",
       "    </tr>\n",
       "    <tr>\n",
       "      <th>4</th>\n",
       "      <td>1978-01-01</td>\n",
       "      <td>22.0441</td>\n",
       "      <td>160.0000</td>\n",
       "    </tr>\n",
       "    <tr>\n",
       "      <th>...</th>\n",
       "      <td>...</td>\n",
       "      <td>...</td>\n",
       "      <td>...</td>\n",
       "    </tr>\n",
       "    <tr>\n",
       "      <th>86</th>\n",
       "      <td>1998-07-01</td>\n",
       "      <td>17.5085</td>\n",
       "      <td>277.3667</td>\n",
       "    </tr>\n",
       "    <tr>\n",
       "      <th>87</th>\n",
       "      <td>1998-10-01</td>\n",
       "      <td>16.6475</td>\n",
       "      <td>279.5333</td>\n",
       "    </tr>\n",
       "    <tr>\n",
       "      <th>88</th>\n",
       "      <td>1999-01-01</td>\n",
       "      <td>16.6785</td>\n",
       "      <td>278.0000</td>\n",
       "    </tr>\n",
       "    <tr>\n",
       "      <th>89</th>\n",
       "      <td>1999-04-01</td>\n",
       "      <td>17.7635</td>\n",
       "      <td>284.7667</td>\n",
       "    </tr>\n",
       "    <tr>\n",
       "      <th>90</th>\n",
       "      <td>1999-07-01</td>\n",
       "      <td>17.6689</td>\n",
       "      <td>289.2333</td>\n",
       "    </tr>\n",
       "  </tbody>\n",
       "</table>\n",
       "<p>91 rows × 3 columns</p>\n",
       "</div>"
      ],
      "text/plain": [
       "           yq  quantity     price\n",
       "0  1977-01-01   22.9976  142.1667\n",
       "1  1977-04-01   22.6131  143.9333\n",
       "2  1977-07-01   23.4054  146.5000\n",
       "3  1977-10-01   22.7401  150.8000\n",
       "4  1978-01-01   22.0441  160.0000\n",
       "..        ...       ...       ...\n",
       "86 1998-07-01   17.5085  277.3667\n",
       "87 1998-10-01   16.6475  279.5333\n",
       "88 1999-01-01   16.6785  278.0000\n",
       "89 1999-04-01   17.7635  284.7667\n",
       "90 1999-07-01   17.6689  289.2333\n",
       "\n",
       "[91 rows x 3 columns]"
      ]
     },
     "execution_count": 4,
     "metadata": {},
     "output_type": "execute_result"
    }
   ],
   "source": [
    "# just cleaning the dataframe & renaming\n",
    "lst = beef_df.columns\n",
    "cols1 = []\n",
    "for x in lst:\n",
    "    cols1.append(x.lower().strip().replace(' ','_'))\n",
    "beef_df.columns=cols1\n",
    "beef_df['yq'] = beef_df['year'].astype(str) + 'Q' + beef_df['quarter'].astype(str)\n",
    "beef_df['yq'] = pd.to_datetime(beef_df['yq'])\n",
    "df = beef_df[['yq','quantity', 'price', ]].copy()\n",
    "df"
   ]
  },
  {
   "cell_type": "code",
   "execution_count": 5,
   "id": "2c40ee0b-cfd2-40e4-a2fa-155610950a29",
   "metadata": {},
   "outputs": [
    {
     "data": {
      "text/plain": [
       "Text(0, 0.5, 'Price')"
      ]
     },
     "execution_count": 5,
     "metadata": {},
     "output_type": "execute_result"
    },
    {
     "data": {
      "image/png": "[encoded data removed]",
      "text/plain": [
       "<Figure size 1100x600 with 1 Axes>"
      ]
     },
     "metadata": {},
     "output_type": "display_data"
    }
   ],
   "source": [
    "# viewing the scatter plot of the data, the time factor isn't really what we're concerned \n",
    "# about for this, so I am ignoring it for the purpose of this notebook and analysis\n",
    "\n",
    "plt.figure(figsize=(11,6))\n",
    "plt.scatter(x=df['quantity'], y=df['price'])\n",
    "plt.xlabel(xlabel='Demand Qty')\n",
    "plt.ylabel(ylabel='Price')"
   ]
  },
  {
   "cell_type": "code",
   "execution_count": 6,
   "id": "c033f81e-5507-4fc8-af76-3a69bfd18754",
   "metadata": {},
   "outputs": [],
   "source": [
    "# splitting dependent and independent variables\n",
    "\n",
    "X = df[['price']]\n",
    "y = df[['quantity']]"
   ]
  },
  {
   "cell_type": "code",
   "execution_count": 7,
   "id": "46e0f7d7-15c2-4de1-9a99-81b1b9713c8a",
   "metadata": {},
   "outputs": [],
   "source": [
    "# splitting into train and test data\n",
    "\n",
    "X_train, X_test, y_train, y_test = train_test_split(X, y, test_size=0.3, random_state=42)"
   ]
  },
  {
   "cell_type": "code",
   "execution_count": 8,
   "id": "19be8286-6ef0-4a7a-aea1-ef95647c338e",
   "metadata": {},
   "outputs": [
    {
     "data": {
      "text/html": [
       "<style>#sk-container-id-1 {color: black;background-color: white;}#sk-container-id-1 pre{padding: 0;}#sk-container-id-1 div.sk-toggleable {background-color: white;}#sk-container-id-1 label.sk-toggleable__label {cursor: pointer;display: block;width: 100%;margin-bottom: 0;padding: 0.3em;box-sizing: border-box;text-align: center;}#sk-container-id-1 label.sk-toggleable__label-arrow:before {content: \"▸\";float: left;margin-right: 0.25em;color: #696969;}#sk-container-id-1 label.sk-toggleable__label-arrow:hover:before {color: black;}#sk-container-id-1 div.sk-estimator:hover label.sk-toggleable__label-arrow:before {color: black;}#sk-container-id-1 div.sk-toggleable__content {max-height: 0;max-width: 0;overflow: hidden;text-align: left;background-color: #f0f8ff;}#sk-container-id-1 div.sk-toggleable__content pre {margin: 0.2em;color: black;border-radius: 0.25em;background-color: #f0f8ff;}#sk-container-id-1 input.sk-toggleable__control:checked~div.sk-toggleable__content {max-height: 200px;max-width: 100%;overflow: auto;}#sk-container-id-1 input.sk-toggleable__control:checked~label.sk-toggleable__label-arrow:before {content: \"▾\";}#sk-container-id-1 div.sk-estimator input.sk-toggleable__control:checked~label.sk-toggleable__label {background-color: #d4ebff;}#sk-container-id-1 div.sk-label input.sk-toggleable__control:checked~label.sk-toggleable__label {background-color: #d4ebff;}#sk-container-id-1 input.sk-hidden--visually {border: 0;clip: rect(1px 1px 1px 1px);clip: rect(1px, 1px, 1px, 1px);height: 1px;margin: -1px;overflow: hidden;padding: 0;position: absolute;width: 1px;}#sk-container-id-1 div.sk-estimator {font-family: monospace;background-color: #f0f8ff;border: 1px dotted black;border-radius: 0.25em;box-sizing: border-box;margin-bottom: 0.5em;}#sk-container-id-1 div.sk-estimator:hover {background-color: #d4ebff;}#sk-container-id-1 div.sk-parallel-item::after {content: \"\";width: 100%;border-bottom: 1px solid gray;flex-grow: 1;}#sk-container-id-1 div.sk-label:hover label.sk-toggleable__label {background-color: #d4ebff;}#sk-container-id-1 div.sk-serial::before {content: \"\";position: absolute;border-left: 1px solid gray;box-sizing: border-box;top: 0;bottom: 0;left: 50%;z-index: 0;}#sk-container-id-1 div.sk-serial {display: flex;flex-direction: column;align-items: center;background-color: white;padding-right: 0.2em;padding-left: 0.2em;position: relative;}#sk-container-id-1 div.sk-item {position: relative;z-index: 1;}#sk-container-id-1 div.sk-parallel {display: flex;align-items: stretch;justify-content: center;background-color: white;position: relative;}#sk-container-id-1 div.sk-item::before, #sk-container-id-1 div.sk-parallel-item::before {content: \"\";position: absolute;border-left: 1px solid gray;box-sizing: border-box;top: 0;bottom: 0;left: 50%;z-index: -1;}#sk-container-id-1 div.sk-parallel-item {display: flex;flex-direction: column;z-index: 1;position: relative;background-color: white;}#sk-container-id-1 div.sk-parallel-item:first-child::after {align-self: flex-end;width: 50%;}#sk-container-id-1 div.sk-parallel-item:last-child::after {align-self: flex-start;width: 50%;}#sk-container-id-1 div.sk-parallel-item:only-child::after {width: 0;}#sk-container-id-1 div.sk-dashed-wrapped {border: 1px dashed gray;margin: 0 0.4em 0.5em 0.4em;box-sizing: border-box;padding-bottom: 0.4em;background-color: white;}#sk-container-id-1 div.sk-label label {font-family: monospace;font-weight: bold;display: inline-block;line-height: 1.2em;}#sk-container-id-1 div.sk-label-container {text-align: center;}#sk-container-id-1 div.sk-container {/* jupyter's `normalize.less` sets `[hidden] { display: none; }` but bootstrap.min.css set `[hidden] { display: none !important; }` so we also need the `!important` here to be able to override the default hidden behavior on the sphinx rendered scikit-learn.org. See: https://github.com/scikit-learn/scikit-learn/issues/21755 */display: inline-block !important;position: relative;}#sk-container-id-1 div.sk-text-repr-fallback {display: none;}</style><div id=\"sk-container-id-1\" class=\"sk-top-container\"><div class=\"sk-text-repr-fallback\"><pre>LinearRegression()</pre><b>In a Jupyter environment, please rerun this cell to show the HTML representation or trust the notebook. <br />On GitHub, the HTML representation is unable to render, please try loading this page with nbviewer.org.</b></div><div class=\"sk-container\" hidden><div class=\"sk-item\"><div class=\"sk-estimator sk-toggleable\"><input class=\"sk-toggleable__control sk-hidden--visually\" id=\"sk-estimator-id-1\" type=\"checkbox\" checked><label for=\"sk-estimator-id-1\" class=\"sk-toggleable__label sk-toggleable__label-arrow\">LinearRegression</label><div class=\"sk-toggleable__content\"><pre>LinearRegression()</pre></div></div></div></div></div>"
      ],
      "text/plain": [
       "LinearRegression()"
      ]
     },
     "execution_count": 8,
     "metadata": {},
     "output_type": "execute_result"
    }
   ],
   "source": [
    "# creating the linear regression model\n",
    "\n",
    "lin_reg = LinearRegression()\n",
    "\n",
    "\n",
    "# fitting the linear regression model for quantity sold (y or dependent variable) over price (X or the independent variable)\n",
    "\n",
    "lin_reg.fit(X_train,y_train) "
   ]
  },
  {
   "cell_type": "code",
   "execution_count": 9,
   "id": "d9c630a2-8360-4e21-bd1b-1292126f855d",
   "metadata": {},
   "outputs": [],
   "source": [
    "# creating the predictions from the fitted model for training & test data sets\n",
    "\n",
    "train_predictions = lin_reg.predict(X_train)\n",
    "test_predictions = lin_reg.predict(X_test)"
   ]
  },
  {
   "cell_type": "code",
   "execution_count": 10,
   "id": "d2cc274a-908a-4db3-8788-2eb9c1ed13ff",
   "metadata": {},
   "outputs": [
    {
     "name": "stdout",
     "output_type": "stream",
     "text": [
      " Train RMSE 0.548\n",
      " Train R^2 0.909\n",
      "\n",
      " Train RMSE 0.611\n",
      " Test R^2 0.882\n",
      "\n",
      "Price coefficient [-0.047]\n"
     ]
    }
   ],
   "source": [
    "# now going to evaluate the model & interpret the results\n",
    "\n",
    "print(f' Train RMSE {round(mean_squared_error(y_train,train_predictions,squared=False),3)}')\n",
    "print(f' Train R^2 {round(r2_score(y_train,train_predictions),3)}')\n",
    "print()\n",
    "print(f' Train RMSE {round(mean_squared_error(y_test,test_predictions,squared=False),3)}')\n",
    "print(f' Test R^2 {round(r2_score(y_test,test_predictions),3)}')\n",
    "print()\n",
    "print(f'Price coefficient {np.round(lin_reg.coef_[0],3)}')"
   ]
  },
  {
   "cell_type": "markdown",
   "id": "e71cde4b-ec52-4556-a7d2-e695bcab40a5",
   "metadata": {},
   "source": [
    "##### Train RMSE 0.548\n",
    "##### Train R^2 0.909\n",
    "\n",
    "##### Train RMSE 0.611\n",
    "##### Test R^2 0.882\n",
    "\n",
    "##### Price coefficient (-0.047)"
   ]
  },
  {
   "cell_type": "code",
   "execution_count": 11,
   "id": "d6d69c26-005f-46ad-b05a-d7638052a187",
   "metadata": {},
   "outputs": [
    {
     "data": {
      "text/plain": [
       "Text(0, 0.5, 'Price')"
      ]
     },
     "execution_count": 11,
     "metadata": {},
     "output_type": "execute_result"
    },
    {
     "data": {
      "image/png": "[encoded data removed]",
      "text/plain": [
       "<Figure size 1100x600 with 1 Axes>"
      ]
     },
     "metadata": {},
     "output_type": "display_data"
    }
   ],
   "source": [
    "# scatter plot with the linear regression line included\n",
    "fig, ax=plt.subplots(figsize=(11,6))\n",
    "plt.scatter(y, X)\n",
    "plt.plot(lin_reg.predict(X),X,color='r')\n",
    "ax.set_title(\"Beef PED w/ Lin. Regr.\")\n",
    "ax.set_xlabel('Demand')\n",
    "ax.set_ylabel('Price')"
   ]
  },
  {
   "cell_type": "code",
   "execution_count": 12,
   "id": "1dd7dd34-6c1f-47f0-b225-3ad56e27edd1",
   "metadata": {},
   "outputs": [],
   "source": [
    "# Now that I have the linear regression line for the demand curve, I can input some price points and see\n",
    "# the quantity sales predicted from the model"
   ]
  },
  {
   "cell_type": "code",
   "execution_count": 13,
   "id": "bc7a941e-d4a7-451a-a8a3-ae10674a841b",
   "metadata": {},
   "outputs": [
    {
     "name": "stdout",
     "output_type": "stream",
     "text": [
      "PED [-0.46]\n"
     ]
    },
    {
     "name": "stderr",
     "output_type": "stream",
     "text": [
      "/opt/anaconda3/lib/python3.11/site-packages/sklearn/base.py:439: UserWarning: X does not have valid feature names, but LinearRegression was fitted with feature names\n",
      "  warnings.warn(\n",
      "/opt/anaconda3/lib/python3.11/site-packages/sklearn/base.py:439: UserWarning: X does not have valid feature names, but LinearRegression was fitted with feature names\n",
      "  warnings.warn(\n"
     ]
    }
   ],
   "source": [
    "# Now can input two price points along our Price elasticity of demand line, put them into array format, and predict the quantity of beef sold\n",
    "\n",
    "price1 = np.array(200)\n",
    "price2 = np.array(220) \n",
    "\n",
    "# predictions of estimated demand at the price points. Re-shape the array and return first value\n",
    "\n",
    "demand_est1 = lin_reg.predict(price1.reshape(1, -1))[0]\n",
    "demand_est2 = lin_reg.predict(price2.reshape(1, -1))[0]\n",
    "\n",
    "# plug in price points and demand estimates into our Price Elasticity of Demand formula\n",
    "PED = ((demand_est2 - demand_est1)/(demand_est1))/((price2 - price1)/(price1)) \n",
    "\n",
    "#Print the price elasticity of demand estimation of going from \n",
    "print(f'PED {np.round(PED,2)}')"
   ]
  },
  {
   "cell_type": "markdown",
   "id": "11d3b29a-e946-428f-a7ea-0a18f815ac78",
   "metadata": {},
   "source": [
    "### Explanation:\n",
    "\n",
    "#### Using the data available & prediction model I made, the estimated price elsaticity of demand of beef \n",
    "#### going from \\\\$220 to $200 (a 10% change in price in this case) would result in a 4.6% increase in the \n",
    "#### quantity of beef sold. Using this information, a business could make decisions about the expected tradeoffs\n",
    "#### of a price change & if it would be more beneficial to lower the price (could also test to see the effects of a price increase, etc.)"
   ]
  },
  {
   "cell_type": "code",
   "execution_count": null,
   "id": "317d6980-14db-4435-b7fa-d12bdaba5a97",
   "metadata": {},
   "outputs": [],
   "source": []
  }
 ],
 "metadata": {
  "kernelspec": {
   "display_name": "Python 3 (ipykernel)",
   "language": "python",
   "name": "python3"
  },
  "language_info": {
   "codemirror_mode": {
    "name": "ipython",
    "version": 3
   },
   "file_extension": ".py",
   "mimetype": "text/x-python",
   "name": "python",
   "nbconvert_exporter": "python",
   "pygments_lexer": "ipython3",
   "version": "3.11.7"
  }
 },
 "nbformat": 4,
 "nbformat_minor": 5
}
