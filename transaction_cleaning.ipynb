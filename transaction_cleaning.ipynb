{
 "cells": [
  {
   "cell_type": "code",
   "execution_count": 58,
   "id": "1dc0e111",
   "metadata": {},
   "outputs": [
    {
     "data": {
      "text/html": [
       "<style>.container { width : 98% !important; }</style>"
      ],
      "text/plain": [
       "<IPython.core.display.HTML object>"
      ]
     },
     "metadata": {},
     "output_type": "display_data"
    }
   ],
   "source": [
    "import pandas as pd\n",
    "import numpy as np\n",
    "import datetime as dt\n",
    "import itertools\n",
    "from IPython.core.display import display, HTML\n",
    "import sklearn\n",
    "\n",
    "\n",
    "display(HTML(\"<style>.container { width : 98% !important; }</style>\"))\n",
    "\n",
    "pd.set_option('display.max_columns',500)"
   ]
  },
  {
   "cell_type": "code",
   "execution_count": 59,
   "id": "98a529ac",
   "metadata": {},
   "outputs": [],
   "source": [
    "data = pd.read_csv('/Users/APinkerton/Downloads/data.csv',encoding = 'unicode_escape')"
   ]
  },
  {
   "cell_type": "code",
   "execution_count": 67,
   "id": "d3c5b917",
   "metadata": {},
   "outputs": [
    {
     "data": {
      "text/plain": [
       "22190"
      ]
     },
     "execution_count": 67,
     "metadata": {},
     "output_type": "execute_result"
    }
   ],
   "source": [
    "# Cleaning up column headers, ranking customer ID's starting from 1 as unique identifiers\n",
    "cols1 = data.columns \n",
    "cols2 = [] \n",
    "for x in cols1:\n",
    "    cols2.append(x.lower().strip().replace(' ','_'))\n",
    "data.columns = cols2\n",
    "data = data[~(data['customerid'].isnull()) | (data['customerid']==np.inf)].copy()\n",
    "data['customerid'] = data['customerid'].astype(int)\n",
    "data#[['invoiceno','invoicedate']]\n",
    "data['customerid'].rank(method='dense',ascending=True).astype(int)\n",
    "len(np.unique(data['invoiceno']))"
   ]
  },
  {
   "cell_type": "code",
   "execution_count": 78,
   "id": "48333c76",
   "metadata": {},
   "outputs": [],
   "source": [
    "# Starting to group by the customer id, collapsing transaction items into one DataFrame cell list\n",
    "# Also merging on customer rank and then ranking the transactions of the customers to put them in chronological order\n",
    "grp = data.groupby(['invoiceno','customerid'])['stockcode'].agg(['unique']).reset_index()\n",
    "df = pd.merge(grp,data[['invoiceno','invoicedate']],left_on='invoiceno',right_on='invoiceno',how='left')\n",
    "\n",
    "\n",
    "custos = pd.DataFrame(df['customerid'].rank(ascending=True,method='dense').astype(int).reset_index())\n",
    "custos.columns = ['index','custo_rank']\n",
    "\n",
    "rnks = pd.DataFrame(df.groupby(['customerid'])[['invoiceno']].rank(ascending=True,method='dense').astype(int).reset_index())\n",
    "rnks.columns = ['index','xaction_rank']\n",
    "df = pd.merge(df,custos,left_index=True,right_on='index')\n",
    "df = pd.merge(df,rnks,left_index=True,right_on='index')\n",
    "df.drop_duplicates(['invoiceno'],inplace=True)\n",
    "# Getting item counts for each transaction\n",
    "sz = []\n",
    "for a in df['unique']:\n",
    "    sz.append(len(a))"
   ]
  },
  {
   "cell_type": "code",
   "execution_count": 87,
   "id": "c02ba0b7",
   "metadata": {},
   "outputs": [
    {
     "data": {
      "text/html": [
       "<div>\n",
       "<style scoped>\n",
       "    .dataframe tbody tr th:only-of-type {\n",
       "        vertical-align: middle;\n",
       "    }\n",
       "\n",
       "    .dataframe tbody tr th {\n",
       "        vertical-align: top;\n",
       "    }\n",
       "\n",
       "    .dataframe thead th {\n",
       "        text-align: right;\n",
       "    }\n",
       "</style>\n",
       "<table border=\"1\" class=\"dataframe\">\n",
       "  <thead>\n",
       "    <tr style=\"text-align: right;\">\n",
       "      <th></th>\n",
       "      <th>custo_rank</th>\n",
       "      <th>xaction_rank</th>\n",
       "      <th>itm_ct</th>\n",
       "      <th>unique</th>\n",
       "    </tr>\n",
       "  </thead>\n",
       "  <tbody>\n",
       "    <tr>\n",
       "      <th>37126</th>\n",
       "      <td>1</td>\n",
       "      <td>1</td>\n",
       "      <td>1</td>\n",
       "      <td>[85123A, 71053, 84406B, 84029G, 84029E, 22752,...</td>\n",
       "    </tr>\n",
       "    <tr>\n",
       "      <th>398918</th>\n",
       "      <td>1</td>\n",
       "      <td>2</td>\n",
       "      <td>1</td>\n",
       "      <td>[22633, 22632]</td>\n",
       "    </tr>\n",
       "    <tr>\n",
       "      <th>10516</th>\n",
       "      <td>2</td>\n",
       "      <td>1</td>\n",
       "      <td>31</td>\n",
       "      <td>[84879, 22745, 22748, 22749, 22310, 84969, 226...</td>\n",
       "    </tr>\n",
       "    <tr>\n",
       "      <th>43443</th>\n",
       "      <td>2</td>\n",
       "      <td>2</td>\n",
       "      <td>29</td>\n",
       "      <td>[22960, 22913, 22912, 22914]</td>\n",
       "    </tr>\n",
       "    <tr>\n",
       "      <th>99433</th>\n",
       "      <td>2</td>\n",
       "      <td>3</td>\n",
       "      <td>24</td>\n",
       "      <td>[21756]</td>\n",
       "    </tr>\n",
       "    <tr>\n",
       "      <th>...</th>\n",
       "      <td>...</td>\n",
       "      <td>...</td>\n",
       "      <td>...</td>\n",
       "      <td>...</td>\n",
       "    </tr>\n",
       "    <tr>\n",
       "      <th>379544</th>\n",
       "      <td>4371</td>\n",
       "      <td>15</td>\n",
       "      <td>39</td>\n",
       "      <td>[23843]</td>\n",
       "    </tr>\n",
       "    <tr>\n",
       "      <th>390856</th>\n",
       "      <td>4371</td>\n",
       "      <td>16</td>\n",
       "      <td>50</td>\n",
       "      <td>[22178, 23144]</td>\n",
       "    </tr>\n",
       "    <tr>\n",
       "      <th>137312</th>\n",
       "      <td>4372</td>\n",
       "      <td>1</td>\n",
       "      <td>27</td>\n",
       "      <td>[M]</td>\n",
       "    </tr>\n",
       "    <tr>\n",
       "      <th>284483</th>\n",
       "      <td>4372</td>\n",
       "      <td>2</td>\n",
       "      <td>38</td>\n",
       "      <td>[21258]</td>\n",
       "    </tr>\n",
       "    <tr>\n",
       "      <th>310152</th>\n",
       "      <td>4372</td>\n",
       "      <td>3</td>\n",
       "      <td>3</td>\n",
       "      <td>[84978, 20979]</td>\n",
       "    </tr>\n",
       "  </tbody>\n",
       "</table>\n",
       "<p>22190 rows × 4 columns</p>\n",
       "</div>"
      ],
      "text/plain": [
       "        custo_rank  xaction_rank  itm_ct  \\\n",
       "37126            1             1       1   \n",
       "398918           1             2       1   \n",
       "10516            2             1      31   \n",
       "43443            2             2      29   \n",
       "99433            2             3      24   \n",
       "...            ...           ...     ...   \n",
       "379544        4371            15      39   \n",
       "390856        4371            16      50   \n",
       "137312        4372             1      27   \n",
       "284483        4372             2      38   \n",
       "310152        4372             3       3   \n",
       "\n",
       "                                                   unique  \n",
       "37126   [85123A, 71053, 84406B, 84029G, 84029E, 22752,...  \n",
       "398918                                     [22633, 22632]  \n",
       "10516   [84879, 22745, 22748, 22749, 22310, 84969, 226...  \n",
       "43443                        [22960, 22913, 22912, 22914]  \n",
       "99433                                             [21756]  \n",
       "...                                                   ...  \n",
       "379544                                            [23843]  \n",
       "390856                                     [22178, 23144]  \n",
       "137312                                                [M]  \n",
       "284483                                            [21258]  \n",
       "310152                                     [84978, 20979]  \n",
       "\n",
       "[22190 rows x 4 columns]"
      ]
     },
     "execution_count": 87,
     "metadata": {},
     "output_type": "execute_result"
    }
   ],
   "source": [
    "df['itm_ct'] = sz\n",
    "res_df = df[['custo_rank','xaction_rank', 'itm_ct', 'unique']].copy()\n",
    "res_df.sort_values(by=['custo_rank','xaction_rank'],ascending=True,inplace=True)\n",
    "empt=[]\n",
    "for lst in df['unique']:\n",
    "    itms = []\n",
    "    for itm in lst:\n",
    "        itms.append(str(itm))\n",
    "    empt.append(itms)\n",
    "res_df['unique'] = empt\n",
    "res_df"
   ]
  },
  {
   "cell_type": "code",
   "execution_count": 88,
   "id": "231cdad5",
   "metadata": {},
   "outputs": [],
   "source": [
    "res_df.to_csv('/Users/APinkerton/Downloads/xactions.csv')"
   ]
  }
 ],
 "metadata": {
  "kernelspec": {
   "display_name": "Python 3 (ipykernel)",
   "language": "python",
   "name": "python3"
  },
  "language_info": {
   "codemirror_mode": {
    "name": "ipython",
    "version": 3
   },
   "file_extension": ".py",
   "mimetype": "text/x-python",
   "name": "python",
   "nbconvert_exporter": "python",
   "pygments_lexer": "ipython3",
   "version": "3.9.10"
  }
 },
 "nbformat": 4,
 "nbformat_minor": 5
}
