{
 "cells": [
  {
   "cell_type": "code",
   "execution_count": 12,
   "id": "45de2cfa",
   "metadata": {},
   "outputs": [
    {
     "data": {
      "text/html": [
       "<style>.container { width : 98% !important; }</style>"
      ],
      "text/plain": [
       "<IPython.core.display.HTML object>"
      ]
     },
     "metadata": {},
     "output_type": "display_data"
    }
   ],
   "source": [
    "import pandas as pd\n",
    "import numpy as np\n",
    "import datetime as dt\n",
    "import itertools\n",
    "import matplotlib.pyplot as plt\n",
    "import seaborn as sns\n",
    "import sklearn\n",
    "import statsmodels.api as sm\n",
    "import pulp\n",
    "from scipy.optimize import minimize\n",
    "\n",
    "import opendatasets as od\n",
    "from IPython.core.display import display, HTML\n",
    "display(HTML(\"<style>.container { width : 98% !important; }</style>\"))\n",
    "\n",
    "pd.set_option('display.max_columns',500)"
   ]
  },
  {
   "cell_type": "code",
   "execution_count": 2,
   "id": "8769d51c",
   "metadata": {},
   "outputs": [
    {
     "name": "stdout",
     "output_type": "stream",
     "text": [
      "Welcome to the CBC MILP Solver \n",
      "Version: 2.10.3 \n",
      "Build Date: Dec 15 2019 \n",
      "\n",
      "command line - /Users/APinkerton/opt/anaconda3/lib/python3.9/site-packages/pulp/solverdir/cbc/osx/64/cbc /var/folders/0g/4l0cmb9j43jgr0cxr8nx6sdm0000gn/T/fe6b605f4ac8445f91ac4782ea8086fa-pulp.mps max timeMode elapsed branch printingOptions all solution /var/folders/0g/4l0cmb9j43jgr0cxr8nx6sdm0000gn/T/fe6b605f4ac8445f91ac4782ea8086fa-pulp.sol (default strategy 1)\n",
      "At line 2 NAME          MODEL\n",
      "At line 3 ROWS\n",
      "At line 8 COLUMNS\n",
      "At line 15 RHS\n",
      "At line 19 BOUNDS\n",
      "At line 20 ENDATA\n",
      "Problem MODEL has 3 rows, 2 columns and 4 elements\n",
      "Coin0008I MODEL read with 0 errors\n",
      "Option for timeMode changed from cpu to elapsed\n",
      "Presolve 0 (-3) rows, 0 (-2) columns and 0 (-4) elements\n",
      "Empty problem - 0 rows, 0 columns and 0 elements\n",
      "Optimal - objective value 1779700\n",
      "After Postsolve, objective 1779700, infeasibilities - dual 0 (0), primal 0 (0)\n",
      "Optimal objective 1779700 - 0 iterations time 0.002, Presolve 0.00\n",
      "Option for printingOptions changed from normal to all\n",
      "Total time (CPU seconds):       0.00   (Wallclock seconds):       0.01\n",
      "\n",
      "foldy = 1733.0\n",
      "tiny = 200.0\n"
     ]
    }
   ],
   "source": [
    "# Import all classes of PuLP module\n",
    "from pulp import *\n",
    "\n",
    "# Create the problem variable to contain the problem data\n",
    "model = LpProblem(\"ProductionProblem\", LpMaximize)\n",
    "\n",
    "# Create 3 variables tables, chairs, and bookcases\n",
    "\n",
    "foldy = LpVariable(\"foldy\", 0, None, LpContinuous) # takes 1.5 hrs to make a foldy phone\n",
    "tiny = LpVariable(\"tiny\", 0, None,  LpContinuous)  # takes 2 hrs to make a tiny phone\n",
    "LpVariable()\n",
    "# Create maximize objective function\n",
    "model += 900 * foldy + 1100 * tiny\n",
    "\n",
    "# Create the constraints\n",
    "model += 2 * tiny + 1.5 * foldy <= 2999.5, \"labor\"\n",
    "model += tiny >= 200, \"tinyphone_min\"\n",
    "model += foldy >= 500, \"foldyphone_min\"\n",
    "\n",
    "# The problem is solved using PuLP's choice of Solver\n",
    "model.solve()\n",
    "\n",
    "# Each of the variables is printed with it's resolved optimum value\n",
    "for v in model.variables():\n",
    "    print(v.name, \"=\", v.varValue)\n"
   ]
  },
  {
   "cell_type": "code",
   "execution_count": 3,
   "id": "4f445311",
   "metadata": {},
   "outputs": [],
   "source": [
    "# CAN USE THIS ONE BELOW, BUT THE LOOPS MAKE IT HARDER TO DISSECT"
   ]
  },
  {
   "cell_type": "code",
   "execution_count": 6,
   "id": "ddfdd0a5",
   "metadata": {},
   "outputs": [
    {
     "name": "stdout",
     "output_type": "stream",
     "text": [
      "\n",
      "****************************************************\n",
      "Steak Price: 3 | Peanut Butter Price: 2\n",
      "Status of solution is: Optimal\n",
      "Optimal cost per day is: $6.0\n",
      "Steak (in pounds): 2.0\n",
      "Peanut Butter (in pounds): 0.0\n",
      "\n",
      "****************************************************\n",
      "Steak Price: 4 | Peanut Butter Price: 2\n",
      "Status of solution is: Optimal\n",
      "Optimal cost per day is: $8.0\n",
      "Steak (in pounds): 2.0\n",
      "Peanut Butter (in pounds): 0.0\n",
      "\n",
      "****************************************************\n",
      "Steak Price: 4 | Peanut Butter Price: 2.5\n",
      "Status of solution is: Optimal\n",
      "Optimal cost per day is: $8.0\n",
      "Steak (in pounds): 2.0\n",
      "Peanut Butter (in pounds): 0.0\n",
      "\n",
      "****************************************************\n",
      "Steak Price: 12 | Peanut Butter Price: 2\n",
      "Status of solution is: Optimal\n",
      "Optimal cost per day is: $8.0\n",
      "Steak (in pounds): 0.0\n",
      "Peanut Butter (in pounds): 4.0\n",
      "\n",
      "****************************************************\n",
      "Steak Price: 10 | Peanut Butter Price: 3\n",
      "Status of solution is: Optimal\n",
      "Optimal cost per day is: $12.0\n",
      "Steak (in pounds): 0.0\n",
      "Peanut Butter (in pounds): 4.0\n"
     ]
    }
   ],
   "source": [
    "from pulp import *\n",
    "def define_problem_objective(steak_price: float, peanut_butter_price: float):\n",
    "    problem = LpProblem(name=\"DietProblem\", sense=LpMinimize)\n",
    "    S = LpVariable(name = \"Steak_In_Pounds\", lowBound = 0, cat = LpContinuous)\n",
    "    P = LpVariable(name = \"Peanut_Butter_In_Pounds\", lowBound = 0, cat = LpContinuous)\n",
    "    problem += (steak_price*S) + (peanut_butter_price * P), \"MinimizeCost\"\n",
    "    return (problem, S, P)\n",
    "\n",
    "def add_constraints(problem: LpProblem, S: LpVariable, P: LpVariable):\n",
    "    problem += (2*S) + P >= 4, \"MinimumProteinIntake\"\n",
    "    problem += S >= 0, \"MinimumSteakQuantity\"\n",
    "    problem += P >= 0, \"MinimumPeanutButterQuantity\"\n",
    "    \n",
    "prices = [(3,2), (4,2), (4,2.5), (12, 2), (10,3)]\n",
    "for steak_price, peanut_butter_price in prices:\n",
    "    print(\"\\n****************************************************\")\n",
    "    print(f\"Steak Price: {steak_price} | Peanut Butter Price: {peanut_butter_price}\")\n",
    "    problem, steak, peanut_butter = define_problem_objective(steak_price, peanut_butter_price)\n",
    "    add_constraints(problem, steak, peanut_butter)\n",
    "    problem.solve(PULP_CBC_CMD(msg=0))\n",
    "    print(f\"Status of solution is: {LpStatus[problem.status]}\")\n",
    "    print(f\"Optimal cost per day is: ${problem.objective.value()}\")\n",
    "    print(f\"Steak (in pounds): {steak.value()}\")\n",
    "    print(f\"Peanut Butter (in pounds): {peanut_butter.value()}\")"
   ]
  },
  {
   "cell_type": "code",
   "execution_count": 14,
   "id": "d85e7d1c",
   "metadata": {},
   "outputs": [
    {
     "name": "stdout",
     "output_type": "stream",
     "text": [
      "x=[6.00000025] y = -15.999999999999936\n"
     ]
    }
   ],
   "source": [
    "# Simplest example without constraints or multiple variables\n",
    "def f(x):\n",
    "    y = (x**2) - (12 * x) + 20\n",
    "    return y\n",
    "\n",
    "x_start = 2.0\n",
    "\n",
    "result = scipy.optimize.minimize(f,x_start)\n",
    "# Can also do the below to watch it optimize:\n",
    "# result = scipy.optimize.minimize(f, x_start, options = {\"disp\":True})\n",
    "\n",
    "if result.success:\n",
    "    print(f\"x={result.x} y = {result.fun}\")\n",
    "else:\n",
    "    print('Could not optimize')"
   ]
  },
  {
   "cell_type": "code",
   "execution_count": 15,
   "id": "0124dfc1",
   "metadata": {},
   "outputs": [
    {
     "name": "stdout",
     "output_type": "stream",
     "text": [
      "x = 25.000005089367114 y = 49.99998982126577\n"
     ]
    }
   ],
   "source": [
    "# Simplest example without constraints or multiple variables\n",
    "def f(xy):\n",
    "    x = xy[0]\n",
    "    y = xy[1]\n",
    "    area = x * y\n",
    "    return -area\n",
    "\n",
    "xy_start = [50,50]\n",
    "\n",
    "cons = ({'type':'eq','fun':lambda xy : (2*xy[0] + xy[1] - 100)})\n",
    "\n",
    "bnds = ((1,100),(1,100))\n",
    "\n",
    "result = scipy.optimize.minimize(f, x_start, constraints=cons, bounds=bnds)\n",
    "# Can also do the below to watch it optimize:\n",
    "# result = scipy.optimize.minimize(f, x_start, options = {\"disp\":True})\n",
    "\n",
    "if result.success:\n",
    "    xy = result.x\n",
    "    x = xy[0]\n",
    "    y = xy[1]\n",
    "    print(f\"x = {x} y = {y}\")\n",
    "else:\n",
    "    print('Could not optimize')"
   ]
  },
  {
   "cell_type": "code",
   "execution_count": null,
   "id": "6dfa6d52",
   "metadata": {},
   "outputs": [],
   "source": []
  },
  {
   "cell_type": "code",
   "execution_count": null,
   "id": "009f4b6a",
   "metadata": {},
   "outputs": [],
   "source": []
  }
 ],
 "metadata": {
  "kernelspec": {
   "display_name": "Python 3 (ipykernel)",
   "language": "python",
   "name": "python3"
  },
  "language_info": {
   "codemirror_mode": {
    "name": "ipython",
    "version": 3
   },
   "file_extension": ".py",
   "mimetype": "text/x-python",
   "name": "python",
   "nbconvert_exporter": "python",
   "pygments_lexer": "ipython3",
   "version": "3.9.10"
  }
 },
 "nbformat": 4,
 "nbformat_minor": 5
}
